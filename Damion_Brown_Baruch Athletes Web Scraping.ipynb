{
 "cells": [
  {
   "cell_type": "markdown",
   "metadata": {},
   "source": [
    "# Question #1 - Web Scraping "
   ]
  },
  {
   "cell_type": "markdown",
   "metadata": {},
   "source": [
    "# Conclusion"
   ]
  },
  {
   "cell_type": "markdown",
   "metadata": {
    "vscode": {
     "languageId": "plaintext"
    }
   },
   "source": [
    "In conclusion, I found that on average, the men’s volleyball team was 6 feet 0 inches, or 72.25 inches, and the men’s swimming team was 5 feet 10 inches, or 70.74 inches. Correspondingly, the women's volleyball team was 5 feet 7 inches, or 67.25 inches, compared to the woman’s swimming team, which was 5 feet 4 inches, or 64.33 inches. Based on these findings, we can conclude that in general, regardless of sex, varsity volleyball players tend to be taller than varsity swimming team members. "
   ]
  },
  {
   "cell_type": "markdown",
   "metadata": {},
   "source": [
    "# CODE"
   ]
  },
  {
   "cell_type": "code",
   "execution_count": 1,
   "metadata": {},
   "outputs": [],
   "source": [
    "# Import requests library to allow making HTTP requests\n",
    "import requests \n",
    "# Import the BeautifulSoup class from bS4 for parsing the HTML\n",
    "from bs4 import BeautifulSoup"
   ]
  },
  {
   "cell_type": "code",
   "execution_count": 2,
   "metadata": {},
   "outputs": [],
   "source": [
    "\n",
    "# Defined a function named get_url, which takes a URL as a parameter.\n",
    "def get_url(url):\n",
    "    # get webpage information\n",
    "    page = requests.get(url)\n",
    "\n",
    "    # Check if the request to the webpage was successful.\n",
    "    if page.status_code == 200:\n",
    "\n",
    "        # parse HTML information with BeautifilSoup\n",
    "        soup = BeautifulSoup(page.content, 'html.parser')\n",
    "        # return soup so I can call it in my get_height function.\n",
    "        return soup  \n",
    "      "
   ]
  },
  {
   "cell_type": "code",
   "execution_count": 3,
   "metadata": {},
   "outputs": [],
   "source": [
    "# Defined a function named get_height, which takes a URL as a parameter.\n",
    "def get_height(url):\n",
    "    # retrieve the website and parse its information.\n",
    "    soup = get_url(url)\n",
    "\n",
    "    # Find all the <td> tags with class 'height' and retrieve the data.\n",
    "    height_tags = soup.find_all('td', class_ = 'height') \n",
    "\n",
    "    # created an empty list named heights_all to store all heights in inches.\n",
    "    heights_all = []\n",
    "    for height_tag in height_tags:\n",
    "        '''Retrieve the text content of the height tag\n",
    "            Then covert it to a float\n",
    "            then covert it to inches\n",
    "            then append the total inches in each height tag to Height_all list'''\n",
    "        heights_all.append(float(height_tag.get_text()[0]) * 12 + float(height_tag.get_text()[2:]))\n",
    "   \n",
    "    # Calculate the average height in inches.\n",
    "    avg_height = round(sum(heights_all)/len(heights_all),2)\n",
    "    # sum total heights in heights_all list in inches\n",
    "    total_inches = sum(heights_all)\n",
    "  \n",
    "    # convert average height to feet and inches \n",
    "    feet = int(avg_height // 12)\n",
    "    inches = int(round(avg_height % 12, 2))\n",
    "    \n",
    "    # Return the average height, feet and inches.\n",
    "    return feet, inches, avg_height"
   ]
  },
  {
   "cell_type": "markdown",
   "metadata": {},
   "source": [
    "Men’s Swimming Team Average Height"
   ]
  },
  {
   "cell_type": "code",
   "execution_count": 4,
   "metadata": {
    "scrolled": true
   },
   "outputs": [
    {
     "name": "stdout",
     "output_type": "stream",
     "text": [
      "The average height for Men’s Swimming Team are 5 feet 10 inches or 70.74 inches\n"
     ]
    }
   ],
   "source": [
    "# returns the feet, inches, and avg_height from the given url (Baruchs Men's Swimming Team).\n",
    "feet, inches, avg_height = get_height('https://athletics.baruch.cuny.edu/sports/mens-swimming-and-diving/roster')\n",
    "print(f'The average height for Men’s Swimming Team are {feet} feet {inches} inches or {avg_height} inches')"
   ]
  },
  {
   "cell_type": "markdown",
   "metadata": {},
   "source": [
    "Men’s Volleyball Team Average Height"
   ]
  },
  {
   "cell_type": "code",
   "execution_count": 5,
   "metadata": {
    "scrolled": true
   },
   "outputs": [
    {
     "name": "stdout",
     "output_type": "stream",
     "text": [
      "The average height for the Men’s Volleyball Team is 6 feet 0 inches or 72.25 inches\n"
     ]
    }
   ],
   "source": [
    "# returns the feet, inches, and avg_height from the given url (Baruchs Men's Volleyball Team).\n",
    "feet, inches, avg_height = get_height('https://athletics.baruch.cuny.edu/sports/mens-volleyball/roster')\n",
    "print(f'The average height for the Men’s Volleyball Team is {feet} feet {inches} inches or {avg_height} inches')"
   ]
  },
  {
   "cell_type": "markdown",
   "metadata": {},
   "source": [
    "Women’s Swimming Team Average Height"
   ]
  },
  {
   "cell_type": "code",
   "execution_count": 6,
   "metadata": {},
   "outputs": [
    {
     "name": "stdout",
     "output_type": "stream",
     "text": [
      "The average height for the Women’s Swimming Team is 5 feet 4 inches or 64.33 inches\n"
     ]
    }
   ],
   "source": [
    "# returns the feet, inches, and avg_height from the given url (Baruchs Women's Swimming Team).\n",
    "feet, inches, avg_height = get_height('https://athletics.baruch.cuny.edu/sports/womens-swimming-and-diving/roster')\n",
    "print(f'The average height for the Women’s Swimming Team is {feet} feet {inches} inches or {avg_height} inches')"
   ]
  },
  {
   "cell_type": "markdown",
   "metadata": {},
   "source": [
    "Women’s Volleyball Team Average Height"
   ]
  },
  {
   "cell_type": "code",
   "execution_count": 7,
   "metadata": {
    "scrolled": true
   },
   "outputs": [
    {
     "name": "stdout",
     "output_type": "stream",
     "text": [
      "The average height for the Women’s Volleyball Team is 5 feet 7 inches or 67.25 inches\n"
     ]
    }
   ],
   "source": [
    "# returns the feet, inches, and avg_height from the given url (Baruchs Women's Volleyball Team).\n",
    "feet, inches, avg_height = get_height('https://athletics.baruch.cuny.edu/sports/womens-volleyball/roster')\n",
    "print(f'The average height for the Women’s Volleyball Team is {feet} feet {inches} inches or {avg_height} inches')"
   ]
  }
 ],
 "metadata": {
  "kernelspec": {
   "display_name": "Python 3 (ipykernel)",
   "language": "python",
   "name": "python3"
  },
  "language_info": {
   "codemirror_mode": {
    "name": "ipython",
    "version": 3
   },
   "file_extension": ".py",
   "mimetype": "text/x-python",
   "name": "python",
   "nbconvert_exporter": "python",
   "pygments_lexer": "ipython3",
   "version": "3.9.13"
  }
 },
 "nbformat": 4,
 "nbformat_minor": 2
}
